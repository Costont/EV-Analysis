{
 "cells": [
  {
   "cell_type": "code",
   "execution_count": 1,
   "id": "b6ee6bb9",
   "metadata": {},
   "outputs": [],
   "source": [
    "# Add Matplotlib inline magic command\n",
    "%matplotlib inline\n",
    "\n",
    "# Dependencies and Setup\n",
    "import matplotlib.pyplot as plt\n",
    "from sklearn.linear_model import LinearRegression\n",
    "from sklearn.model_selection import train_test_split\n",
    "import pandas as pd\n",
    "from pathlib import Path\n",
    "import requests\n",
    "import gmaps\n",
    "import os\n",
    "\n",
    "# Import NumPy and the stats module from SciPy.\n",
    "import numpy as np\n",
    "import scipy.stats as sts\n",
    "\n",
    "# Import mpl to change the plot configurations using rcParams.\n",
    "import matplotlib as mpl\n",
    "\n",
    "# Import API key\n",
    "from config import g_key\n",
    "\n",
    "# Configure gmaps API key\n",
    "gmaps.configure(api_key=g_key)"
   ]
  },
  {
   "cell_type": "code",
   "execution_count": 2,
   "id": "634bf5ac",
   "metadata": {},
   "outputs": [],
   "source": [
    "# Files to load\n",
    "stations_load = \"Data/ca_stations_count.csv\"\n",
    "evs_load = \"Data/ca_ev_county_counts.csv\"\n",
    "evs_stations_load = \"Data/ca_ev_stations.csv\"\n",
    "ca_geoids_load = \"Data/ca_geoids.csv\"\n",
    "ratio_load = \"Data/ca_ev_stations_ratio.csv\"\n",
    "evs_yr_load = \"Data/ca_ev_year_counts.csv\"\n",
    "stations_yr_load = \"Data/ca_stations_yr_count.csv\""
   ]
  },
  {
   "cell_type": "code",
   "execution_count": 22,
   "id": "45629d51",
   "metadata": {},
   "outputs": [
    {
     "data": {
      "text/html": [
       "<div>\n",
       "<style scoped>\n",
       "    .dataframe tbody tr th:only-of-type {\n",
       "        vertical-align: middle;\n",
       "    }\n",
       "\n",
       "    .dataframe tbody tr th {\n",
       "        vertical-align: top;\n",
       "    }\n",
       "\n",
       "    .dataframe thead th {\n",
       "        text-align: right;\n",
       "    }\n",
       "</style>\n",
       "<table border=\"1\" class=\"dataframe\">\n",
       "  <thead>\n",
       "    <tr style=\"text-align: right;\">\n",
       "      <th></th>\n",
       "      <th>stations</th>\n",
       "      <th>county</th>\n",
       "      <th>geoid</th>\n",
       "    </tr>\n",
       "  </thead>\n",
       "  <tbody>\n",
       "    <tr>\n",
       "      <th>0</th>\n",
       "      <td>3193</td>\n",
       "      <td>Los Angeles</td>\n",
       "      <td>6037</td>\n",
       "    </tr>\n",
       "    <tr>\n",
       "      <th>1</th>\n",
       "      <td>1546</td>\n",
       "      <td>Santa Clara</td>\n",
       "      <td>6085</td>\n",
       "    </tr>\n",
       "    <tr>\n",
       "      <th>2</th>\n",
       "      <td>1531</td>\n",
       "      <td>Orange</td>\n",
       "      <td>6059</td>\n",
       "    </tr>\n",
       "    <tr>\n",
       "      <th>3</th>\n",
       "      <td>1295</td>\n",
       "      <td>San Mateo</td>\n",
       "      <td>6081</td>\n",
       "    </tr>\n",
       "    <tr>\n",
       "      <th>4</th>\n",
       "      <td>1010</td>\n",
       "      <td>San Diego</td>\n",
       "      <td>6073</td>\n",
       "    </tr>\n",
       "    <tr>\n",
       "      <th>5</th>\n",
       "      <td>765</td>\n",
       "      <td>Alameda</td>\n",
       "      <td>6001</td>\n",
       "    </tr>\n",
       "    <tr>\n",
       "      <th>6</th>\n",
       "      <td>490</td>\n",
       "      <td>Riverside</td>\n",
       "      <td>6065</td>\n",
       "    </tr>\n",
       "    <tr>\n",
       "      <th>7</th>\n",
       "      <td>409</td>\n",
       "      <td>San Francisco</td>\n",
       "      <td>6075</td>\n",
       "    </tr>\n",
       "    <tr>\n",
       "      <th>8</th>\n",
       "      <td>384</td>\n",
       "      <td>Sacramento</td>\n",
       "      <td>6067</td>\n",
       "    </tr>\n",
       "    <tr>\n",
       "      <th>9</th>\n",
       "      <td>351</td>\n",
       "      <td>San Bernardino</td>\n",
       "      <td>6071</td>\n",
       "    </tr>\n",
       "  </tbody>\n",
       "</table>\n",
       "</div>"
      ],
      "text/plain": [
       "   stations          county  geoid\n",
       "0      3193     Los Angeles   6037\n",
       "1      1546     Santa Clara   6085\n",
       "2      1531          Orange   6059\n",
       "3      1295       San Mateo   6081\n",
       "4      1010       San Diego   6073\n",
       "5       765         Alameda   6001\n",
       "6       490       Riverside   6065\n",
       "7       409   San Francisco   6075\n",
       "8       384      Sacramento   6067\n",
       "9       351  San Bernardino   6071"
      ]
     },
     "execution_count": 22,
     "metadata": {},
     "output_type": "execute_result"
    }
   ],
   "source": [
    "# Read the California Stations data file and store it in a pandas DataFrame.\n",
    "stations_df = pd.read_csv(stations_load)\n",
    "stations_df.sort_values(by=['stations'], inplace=True, ascending=False)\n",
    "stations_df.head(10)"
   ]
  },
  {
   "cell_type": "code",
   "execution_count": 4,
   "id": "641bf33d",
   "metadata": {},
   "outputs": [
    {
     "data": {
      "text/html": [
       "<div>\n",
       "<style scoped>\n",
       "    .dataframe tbody tr th:only-of-type {\n",
       "        vertical-align: middle;\n",
       "    }\n",
       "\n",
       "    .dataframe tbody tr th {\n",
       "        vertical-align: top;\n",
       "    }\n",
       "\n",
       "    .dataframe thead th {\n",
       "        text-align: right;\n",
       "    }\n",
       "</style>\n",
       "<table border=\"1\" class=\"dataframe\">\n",
       "  <thead>\n",
       "    <tr style=\"text-align: right;\">\n",
       "      <th></th>\n",
       "      <th>stations</th>\n",
       "      <th>oyear</th>\n",
       "    </tr>\n",
       "  </thead>\n",
       "  <tbody>\n",
       "    <tr>\n",
       "      <th>0</th>\n",
       "      <td>89</td>\n",
       "      <td>2010</td>\n",
       "    </tr>\n",
       "    <tr>\n",
       "      <th>1</th>\n",
       "      <td>96</td>\n",
       "      <td>2011</td>\n",
       "    </tr>\n",
       "    <tr>\n",
       "      <th>2</th>\n",
       "      <td>98</td>\n",
       "      <td>2012</td>\n",
       "    </tr>\n",
       "    <tr>\n",
       "      <th>3</th>\n",
       "      <td>135</td>\n",
       "      <td>2013</td>\n",
       "    </tr>\n",
       "    <tr>\n",
       "      <th>4</th>\n",
       "      <td>108</td>\n",
       "      <td>2014</td>\n",
       "    </tr>\n",
       "    <tr>\n",
       "      <th>5</th>\n",
       "      <td>312</td>\n",
       "      <td>2015</td>\n",
       "    </tr>\n",
       "    <tr>\n",
       "      <th>6</th>\n",
       "      <td>297</td>\n",
       "      <td>2016</td>\n",
       "    </tr>\n",
       "    <tr>\n",
       "      <th>7</th>\n",
       "      <td>244</td>\n",
       "      <td>2017</td>\n",
       "    </tr>\n",
       "    <tr>\n",
       "      <th>8</th>\n",
       "      <td>403</td>\n",
       "      <td>2018</td>\n",
       "    </tr>\n",
       "    <tr>\n",
       "      <th>9</th>\n",
       "      <td>543</td>\n",
       "      <td>2019</td>\n",
       "    </tr>\n",
       "  </tbody>\n",
       "</table>\n",
       "</div>"
      ],
      "text/plain": [
       "   stations  oyear\n",
       "0        89   2010\n",
       "1        96   2011\n",
       "2        98   2012\n",
       "3       135   2013\n",
       "4       108   2014\n",
       "5       312   2015\n",
       "6       297   2016\n",
       "7       244   2017\n",
       "8       403   2018\n",
       "9       543   2019"
      ]
     },
     "execution_count": 4,
     "metadata": {},
     "output_type": "execute_result"
    }
   ],
   "source": [
    "# Read the California Charge Stations Year Counts data file and store it in a pandas DataFrame.\n",
    "stations_yr_count_df = pd.read_csv(stations_yr_load)\n",
    "stations_yr_count_df.sort_values(by=['oyear'], inplace=True, ascending=True)\n",
    "stations_yr_count_df.head(10)"
   ]
  },
  {
   "cell_type": "code",
   "execution_count": 5,
   "id": "185a5edd",
   "metadata": {},
   "outputs": [
    {
     "data": {
      "text/html": [
       "<div>\n",
       "<style scoped>\n",
       "    .dataframe tbody tr th:only-of-type {\n",
       "        vertical-align: middle;\n",
       "    }\n",
       "\n",
       "    .dataframe tbody tr th {\n",
       "        vertical-align: top;\n",
       "    }\n",
       "\n",
       "    .dataframe thead th {\n",
       "        text-align: right;\n",
       "    }\n",
       "</style>\n",
       "<table border=\"1\" class=\"dataframe\">\n",
       "  <thead>\n",
       "    <tr style=\"text-align: right;\">\n",
       "      <th></th>\n",
       "      <th>evs</th>\n",
       "      <th>ryear</th>\n",
       "    </tr>\n",
       "  </thead>\n",
       "  <tbody>\n",
       "    <tr>\n",
       "      <th>0</th>\n",
       "      <td>743</td>\n",
       "      <td>2010</td>\n",
       "    </tr>\n",
       "    <tr>\n",
       "      <th>1</th>\n",
       "      <td>5662</td>\n",
       "      <td>2011</td>\n",
       "    </tr>\n",
       "    <tr>\n",
       "      <th>2</th>\n",
       "      <td>18054</td>\n",
       "      <td>2012</td>\n",
       "    </tr>\n",
       "    <tr>\n",
       "      <th>3</th>\n",
       "      <td>51849</td>\n",
       "      <td>2013</td>\n",
       "    </tr>\n",
       "    <tr>\n",
       "      <th>4</th>\n",
       "      <td>107983</td>\n",
       "      <td>2014</td>\n",
       "    </tr>\n",
       "    <tr>\n",
       "      <th>5</th>\n",
       "      <td>165121</td>\n",
       "      <td>2015</td>\n",
       "    </tr>\n",
       "    <tr>\n",
       "      <th>6</th>\n",
       "      <td>229005</td>\n",
       "      <td>2016</td>\n",
       "    </tr>\n",
       "    <tr>\n",
       "      <th>7</th>\n",
       "      <td>320644</td>\n",
       "      <td>2017</td>\n",
       "    </tr>\n",
       "    <tr>\n",
       "      <th>8</th>\n",
       "      <td>444612</td>\n",
       "      <td>2018</td>\n",
       "    </tr>\n",
       "    <tr>\n",
       "      <th>9</th>\n",
       "      <td>555347</td>\n",
       "      <td>2019</td>\n",
       "    </tr>\n",
       "  </tbody>\n",
       "</table>\n",
       "</div>"
      ],
      "text/plain": [
       "      evs  ryear\n",
       "0     743   2010\n",
       "1    5662   2011\n",
       "2   18054   2012\n",
       "3   51849   2013\n",
       "4  107983   2014\n",
       "5  165121   2015\n",
       "6  229005   2016\n",
       "7  320644   2017\n",
       "8  444612   2018\n",
       "9  555347   2019"
      ]
     },
     "execution_count": 5,
     "metadata": {},
     "output_type": "execute_result"
    }
   ],
   "source": [
    "# Read the California Electric Vehicle Year Counts data file and store it in a pandas DataFrame.\n",
    "evs_yr_count_df = pd.read_csv(evs_yr_load)\n",
    "evs_yr_count_df.sort_values(by=['ryear'], inplace=True, ascending=True)\n",
    "evs_yr_count_df.head(10)"
   ]
  },
  {
   "cell_type": "code",
   "execution_count": 21,
   "id": "b17bb86e",
   "metadata": {},
   "outputs": [
    {
     "data": {
      "text/html": [
       "<div>\n",
       "<style scoped>\n",
       "    .dataframe tbody tr th:only-of-type {\n",
       "        vertical-align: middle;\n",
       "    }\n",
       "\n",
       "    .dataframe tbody tr th {\n",
       "        vertical-align: top;\n",
       "    }\n",
       "\n",
       "    .dataframe thead th {\n",
       "        text-align: right;\n",
       "    }\n",
       "</style>\n",
       "<table border=\"1\" class=\"dataframe\">\n",
       "  <thead>\n",
       "    <tr style=\"text-align: right;\">\n",
       "      <th></th>\n",
       "      <th>evs</th>\n",
       "      <th>geoid</th>\n",
       "      <th>county</th>\n",
       "    </tr>\n",
       "  </thead>\n",
       "  <tbody>\n",
       "    <tr>\n",
       "      <th>18</th>\n",
       "      <td>642677</td>\n",
       "      <td>6037</td>\n",
       "      <td>Los Angeles</td>\n",
       "    </tr>\n",
       "    <tr>\n",
       "      <th>42</th>\n",
       "      <td>332645</td>\n",
       "      <td>6085</td>\n",
       "      <td>Santa Clara</td>\n",
       "    </tr>\n",
       "    <tr>\n",
       "      <th>29</th>\n",
       "      <td>303324</td>\n",
       "      <td>6059</td>\n",
       "      <td>Orange</td>\n",
       "    </tr>\n",
       "    <tr>\n",
       "      <th>36</th>\n",
       "      <td>197012</td>\n",
       "      <td>6073</td>\n",
       "      <td>San Diego</td>\n",
       "    </tr>\n",
       "    <tr>\n",
       "      <th>0</th>\n",
       "      <td>192172</td>\n",
       "      <td>6001</td>\n",
       "      <td>Alameda</td>\n",
       "    </tr>\n",
       "    <tr>\n",
       "      <th>6</th>\n",
       "      <td>102886</td>\n",
       "      <td>6013</td>\n",
       "      <td>Contra Costa</td>\n",
       "    </tr>\n",
       "    <tr>\n",
       "      <th>40</th>\n",
       "      <td>102569</td>\n",
       "      <td>6081</td>\n",
       "      <td>San Mateo</td>\n",
       "    </tr>\n",
       "    <tr>\n",
       "      <th>32</th>\n",
       "      <td>81505</td>\n",
       "      <td>6065</td>\n",
       "      <td>Riverside</td>\n",
       "    </tr>\n",
       "    <tr>\n",
       "      <th>37</th>\n",
       "      <td>62911</td>\n",
       "      <td>6075</td>\n",
       "      <td>San Francisco</td>\n",
       "    </tr>\n",
       "    <tr>\n",
       "      <th>35</th>\n",
       "      <td>61962</td>\n",
       "      <td>6071</td>\n",
       "      <td>San Bernardino</td>\n",
       "    </tr>\n",
       "  </tbody>\n",
       "</table>\n",
       "</div>"
      ],
      "text/plain": [
       "       evs  geoid          county\n",
       "18  642677   6037     Los Angeles\n",
       "42  332645   6085     Santa Clara\n",
       "29  303324   6059          Orange\n",
       "36  197012   6073       San Diego\n",
       "0   192172   6001         Alameda\n",
       "6   102886   6013    Contra Costa\n",
       "40  102569   6081       San Mateo\n",
       "32   81505   6065       Riverside\n",
       "37   62911   6075   San Francisco\n",
       "35   61962   6071  San Bernardino"
      ]
     },
     "execution_count": 21,
     "metadata": {},
     "output_type": "execute_result"
    }
   ],
   "source": [
    "# Read the California Electric Count By County data file and store it in a pandas DataFrame.\n",
    "evs_df = pd.read_csv(evs_load)\n",
    "evs_df.sort_values(by=['evs'], inplace=True, ascending=False)\n",
    "evs_df.head(10)"
   ]
  },
  {
   "cell_type": "code",
   "execution_count": 7,
   "id": "8acec926",
   "metadata": {},
   "outputs": [
    {
     "data": {
      "text/html": [
       "<div>\n",
       "<style scoped>\n",
       "    .dataframe tbody tr th:only-of-type {\n",
       "        vertical-align: middle;\n",
       "    }\n",
       "\n",
       "    .dataframe tbody tr th {\n",
       "        vertical-align: top;\n",
       "    }\n",
       "\n",
       "    .dataframe thead th {\n",
       "        text-align: right;\n",
       "    }\n",
       "</style>\n",
       "<table border=\"1\" class=\"dataframe\">\n",
       "  <thead>\n",
       "    <tr style=\"text-align: right;\">\n",
       "      <th></th>\n",
       "      <th>geoid</th>\n",
       "      <th>state_abbr</th>\n",
       "      <th>county</th>\n",
       "      <th>state_1</th>\n",
       "    </tr>\n",
       "  </thead>\n",
       "  <tbody>\n",
       "    <tr>\n",
       "      <th>0</th>\n",
       "      <td>6001</td>\n",
       "      <td>CA</td>\n",
       "      <td>Alameda</td>\n",
       "      <td>California</td>\n",
       "    </tr>\n",
       "    <tr>\n",
       "      <th>1</th>\n",
       "      <td>6003</td>\n",
       "      <td>CA</td>\n",
       "      <td>Alpine</td>\n",
       "      <td>California</td>\n",
       "    </tr>\n",
       "    <tr>\n",
       "      <th>2</th>\n",
       "      <td>6005</td>\n",
       "      <td>CA</td>\n",
       "      <td>Amador</td>\n",
       "      <td>California</td>\n",
       "    </tr>\n",
       "    <tr>\n",
       "      <th>3</th>\n",
       "      <td>6007</td>\n",
       "      <td>CA</td>\n",
       "      <td>Butte</td>\n",
       "      <td>California</td>\n",
       "    </tr>\n",
       "    <tr>\n",
       "      <th>4</th>\n",
       "      <td>6009</td>\n",
       "      <td>CA</td>\n",
       "      <td>Calaveras</td>\n",
       "      <td>California</td>\n",
       "    </tr>\n",
       "    <tr>\n",
       "      <th>5</th>\n",
       "      <td>6011</td>\n",
       "      <td>CA</td>\n",
       "      <td>Colusa</td>\n",
       "      <td>California</td>\n",
       "    </tr>\n",
       "    <tr>\n",
       "      <th>6</th>\n",
       "      <td>6013</td>\n",
       "      <td>CA</td>\n",
       "      <td>Contra Costa</td>\n",
       "      <td>California</td>\n",
       "    </tr>\n",
       "    <tr>\n",
       "      <th>7</th>\n",
       "      <td>6015</td>\n",
       "      <td>CA</td>\n",
       "      <td>Del Norte</td>\n",
       "      <td>California</td>\n",
       "    </tr>\n",
       "    <tr>\n",
       "      <th>8</th>\n",
       "      <td>6017</td>\n",
       "      <td>CA</td>\n",
       "      <td>El Dorado</td>\n",
       "      <td>California</td>\n",
       "    </tr>\n",
       "    <tr>\n",
       "      <th>9</th>\n",
       "      <td>6019</td>\n",
       "      <td>CA</td>\n",
       "      <td>Fresno</td>\n",
       "      <td>California</td>\n",
       "    </tr>\n",
       "    <tr>\n",
       "      <th>10</th>\n",
       "      <td>6021</td>\n",
       "      <td>CA</td>\n",
       "      <td>Glenn</td>\n",
       "      <td>California</td>\n",
       "    </tr>\n",
       "    <tr>\n",
       "      <th>11</th>\n",
       "      <td>6023</td>\n",
       "      <td>CA</td>\n",
       "      <td>Humboldt</td>\n",
       "      <td>California</td>\n",
       "    </tr>\n",
       "    <tr>\n",
       "      <th>12</th>\n",
       "      <td>6025</td>\n",
       "      <td>CA</td>\n",
       "      <td>Imperial</td>\n",
       "      <td>California</td>\n",
       "    </tr>\n",
       "    <tr>\n",
       "      <th>13</th>\n",
       "      <td>6027</td>\n",
       "      <td>CA</td>\n",
       "      <td>Inyo</td>\n",
       "      <td>California</td>\n",
       "    </tr>\n",
       "    <tr>\n",
       "      <th>14</th>\n",
       "      <td>6029</td>\n",
       "      <td>CA</td>\n",
       "      <td>Kern</td>\n",
       "      <td>California</td>\n",
       "    </tr>\n",
       "  </tbody>\n",
       "</table>\n",
       "</div>"
      ],
      "text/plain": [
       "    geoid state_abbr        county     state_1\n",
       "0    6001         CA       Alameda  California\n",
       "1    6003         CA        Alpine  California\n",
       "2    6005         CA        Amador  California\n",
       "3    6007         CA         Butte  California\n",
       "4    6009         CA     Calaveras  California\n",
       "5    6011         CA        Colusa  California\n",
       "6    6013         CA  Contra Costa  California\n",
       "7    6015         CA     Del Norte  California\n",
       "8    6017         CA     El Dorado  California\n",
       "9    6019         CA        Fresno  California\n",
       "10   6021         CA         Glenn  California\n",
       "11   6023         CA      Humboldt  California\n",
       "12   6025         CA      Imperial  California\n",
       "13   6027         CA          Inyo  California\n",
       "14   6029         CA          Kern  California"
      ]
     },
     "execution_count": 7,
     "metadata": {},
     "output_type": "execute_result"
    }
   ],
   "source": [
    "# Read the GEOID Code data file and store it in a pandas DataFrame.\n",
    "ca_geoids_df = pd.read_csv(ca_geoids_load)\n",
    "ca_geoids_df.head(10)"
   ]
  },
  {
   "cell_type": "code",
   "execution_count": 9,
   "id": "b91bec35",
   "metadata": {},
   "outputs": [
    {
     "name": "stdout",
     "output_type": "stream",
     "text": [
      "geoid          int64\n",
      "state_abbr    object\n",
      "county        object\n",
      "state_1       object\n",
      "dtype: object\n"
     ]
    }
   ],
   "source": [
    "print(ca_geoids_df.dtypes)"
   ]
  },
  {
   "cell_type": "code",
   "execution_count": 10,
   "id": "85137cd0",
   "metadata": {},
   "outputs": [
    {
     "data": {
      "text/html": [
       "<div>\n",
       "<style scoped>\n",
       "    .dataframe tbody tr th:only-of-type {\n",
       "        vertical-align: middle;\n",
       "    }\n",
       "\n",
       "    .dataframe tbody tr th {\n",
       "        vertical-align: top;\n",
       "    }\n",
       "\n",
       "    .dataframe thead th {\n",
       "        text-align: right;\n",
       "    }\n",
       "</style>\n",
       "<table border=\"1\" class=\"dataframe\">\n",
       "  <thead>\n",
       "    <tr style=\"text-align: right;\">\n",
       "      <th></th>\n",
       "      <th>geoid</th>\n",
       "      <th>county</th>\n",
       "      <th>stations</th>\n",
       "      <th>evs</th>\n",
       "      <th>ratio</th>\n",
       "    </tr>\n",
       "  </thead>\n",
       "  <tbody>\n",
       "    <tr>\n",
       "      <th>0</th>\n",
       "      <td>6037</td>\n",
       "      <td>Los Angeles</td>\n",
       "      <td>3193</td>\n",
       "      <td>642677</td>\n",
       "      <td>0.005</td>\n",
       "    </tr>\n",
       "    <tr>\n",
       "      <th>1</th>\n",
       "      <td>6085</td>\n",
       "      <td>Santa Clara</td>\n",
       "      <td>1546</td>\n",
       "      <td>332645</td>\n",
       "      <td>0.005</td>\n",
       "    </tr>\n",
       "    <tr>\n",
       "      <th>2</th>\n",
       "      <td>6059</td>\n",
       "      <td>Orange</td>\n",
       "      <td>1531</td>\n",
       "      <td>303324</td>\n",
       "      <td>0.005</td>\n",
       "    </tr>\n",
       "    <tr>\n",
       "      <th>4</th>\n",
       "      <td>6073</td>\n",
       "      <td>San Diego</td>\n",
       "      <td>1010</td>\n",
       "      <td>197012</td>\n",
       "      <td>0.005</td>\n",
       "    </tr>\n",
       "    <tr>\n",
       "      <th>5</th>\n",
       "      <td>6001</td>\n",
       "      <td>Alameda</td>\n",
       "      <td>765</td>\n",
       "      <td>192172</td>\n",
       "      <td>0.004</td>\n",
       "    </tr>\n",
       "    <tr>\n",
       "      <th>11</th>\n",
       "      <td>6013</td>\n",
       "      <td>Contra Costa</td>\n",
       "      <td>298</td>\n",
       "      <td>102886</td>\n",
       "      <td>0.003</td>\n",
       "    </tr>\n",
       "    <tr>\n",
       "      <th>3</th>\n",
       "      <td>6081</td>\n",
       "      <td>San Mateo</td>\n",
       "      <td>1295</td>\n",
       "      <td>102569</td>\n",
       "      <td>0.013</td>\n",
       "    </tr>\n",
       "    <tr>\n",
       "      <th>6</th>\n",
       "      <td>6065</td>\n",
       "      <td>Riverside</td>\n",
       "      <td>490</td>\n",
       "      <td>81505</td>\n",
       "      <td>0.006</td>\n",
       "    </tr>\n",
       "    <tr>\n",
       "      <th>7</th>\n",
       "      <td>6075</td>\n",
       "      <td>San Francisco</td>\n",
       "      <td>409</td>\n",
       "      <td>62911</td>\n",
       "      <td>0.007</td>\n",
       "    </tr>\n",
       "    <tr>\n",
       "      <th>9</th>\n",
       "      <td>6071</td>\n",
       "      <td>San Bernardino</td>\n",
       "      <td>351</td>\n",
       "      <td>61962</td>\n",
       "      <td>0.006</td>\n",
       "    </tr>\n",
       "    <tr>\n",
       "      <th>8</th>\n",
       "      <td>6067</td>\n",
       "      <td>Sacramento</td>\n",
       "      <td>384</td>\n",
       "      <td>58327</td>\n",
       "      <td>0.007</td>\n",
       "    </tr>\n",
       "    <tr>\n",
       "      <th>13</th>\n",
       "      <td>6111</td>\n",
       "      <td>Ventura</td>\n",
       "      <td>201</td>\n",
       "      <td>51418</td>\n",
       "      <td>0.004</td>\n",
       "    </tr>\n",
       "    <tr>\n",
       "      <th>12</th>\n",
       "      <td>6097</td>\n",
       "      <td>Sonoma</td>\n",
       "      <td>204</td>\n",
       "      <td>43164</td>\n",
       "      <td>0.005</td>\n",
       "    </tr>\n",
       "    <tr>\n",
       "      <th>15</th>\n",
       "      <td>6041</td>\n",
       "      <td>Marin</td>\n",
       "      <td>164</td>\n",
       "      <td>40179</td>\n",
       "      <td>0.004</td>\n",
       "    </tr>\n",
       "    <tr>\n",
       "      <th>22</th>\n",
       "      <td>6087</td>\n",
       "      <td>Santa Cruz</td>\n",
       "      <td>108</td>\n",
       "      <td>23148</td>\n",
       "      <td>0.005</td>\n",
       "    </tr>\n",
       "  </tbody>\n",
       "</table>\n",
       "</div>"
      ],
      "text/plain": [
       "    geoid          county  stations     evs  ratio\n",
       "0    6037     Los Angeles      3193  642677  0.005\n",
       "1    6085     Santa Clara      1546  332645  0.005\n",
       "2    6059          Orange      1531  303324  0.005\n",
       "4    6073       San Diego      1010  197012  0.005\n",
       "5    6001         Alameda       765  192172  0.004\n",
       "11   6013    Contra Costa       298  102886  0.003\n",
       "3    6081       San Mateo      1295  102569  0.013\n",
       "6    6065       Riverside       490   81505  0.006\n",
       "7    6075   San Francisco       409   62911  0.007\n",
       "9    6071  San Bernardino       351   61962  0.006\n",
       "8    6067      Sacramento       384   58327  0.007\n",
       "13   6111         Ventura       201   51418  0.004\n",
       "12   6097          Sonoma       204   43164  0.005\n",
       "15   6041           Marin       164   40179  0.004\n",
       "22   6087      Santa Cruz       108   23148  0.005"
      ]
     },
     "execution_count": 10,
     "metadata": {},
     "output_type": "execute_result"
    }
   ],
   "source": [
    "# Read the Charging Station to Electric Vehicle Ratio data file and store it in a pandas DataFrame.\n",
    "ratio_df = pd.read_csv(ratio_load)\n",
    "ratio_df.sort_values(by=['evs'], inplace=True, ascending=False)\n",
    "ratio_df.head(15)"
   ]
  },
  {
   "cell_type": "code",
   "execution_count": 11,
   "id": "5ae1167e",
   "metadata": {},
   "outputs": [
    {
     "name": "stdout",
     "output_type": "stream",
     "text": [
      "(10,)\n"
     ]
    },
    {
     "data": {
      "image/png": "[encoded data removed]",
      "text/plain": [
       "<Figure size 432x288 with 1 Axes>"
      ]
     },
     "metadata": {
      "needs_background": "light"
     },
     "output_type": "display_data"
    }
   ],
   "source": [
    "# Linear Regression model using the resampled data\n",
    "plt.xlabel('Year')\n",
    "plt.ylabel('Number of Stations')\n",
    "\n",
    "X = stations_yr_count_df['oyear'].values.reshape(-1,1)\n",
    "y = stations_yr_count_df.stations\n",
    "model =  LinearRegression()\n",
    "model.fit(X, y)\n",
    "y_pred = model.predict(X)\n",
    "\n",
    "print(y_pred.shape)\n",
    "\n",
    "# Scatter Plot Total Charging Stations Over A 8 Years\n",
    "plt.scatter(X, y)\n",
    "plt.plot(X, y_pred, color='red')\n",
    "plt.show()"
   ]
  },
  {
   "cell_type": "code",
   "execution_count": 12,
   "id": "7279c69d",
   "metadata": {},
   "outputs": [
    {
     "data": {
      "image/png": "[encoded data removed]",
      "text/plain": [
       "<Figure size 432x288 with 1 Axes>"
      ]
     },
     "metadata": {
      "needs_background": "light"
     },
     "output_type": "display_data"
    }
   ],
   "source": [
    "# Scatter Plot Total Electric Vehicles Over A 8 Years\n",
    "plt.scatter(evs_yr_count_df.evs, evs_yr_count_df.ryear)\n",
    "plt.xlabel('Number of Electric Vehicle')\n",
    "plt.ylabel('Year')\n",
    "plt.show()"
   ]
  },
  {
   "cell_type": "code",
   "execution_count": 13,
   "id": "c072769a",
   "metadata": {},
   "outputs": [
    {
     "name": "stdout",
     "output_type": "stream",
     "text": [
      "(10,)\n"
     ]
    },
    {
     "data": {
      "image/png": "[encoded data removed]",
      "text/plain": [
       "<Figure size 432x288 with 1 Axes>"
      ]
     },
     "metadata": {
      "needs_background": "light"
     },
     "output_type": "display_data"
    }
   ],
   "source": [
    "# Electrice Vehicle Registration Linear Regression model using the resampled data \n",
    "X = evs_yr_count_df['ryear'].values.reshape(-1,1)\n",
    "y = evs_yr_count_df.evs\n",
    "model =  LinearRegression()\n",
    "\n",
    "# Fitting the model\n",
    "model.fit(X, y)\n",
    "\n",
    "# Making predictions using the testing data.\n",
    "y_pred = model.predict(X)\n",
    "\n",
    "print(y_pred.shape)\n",
    "\n",
    "# Create the plot\n",
    "plt.scatter(X, y)\n",
    "plt.plot(X, y_pred, color='red')\n",
    "plt.show()"
   ]
  },
  {
   "cell_type": "code",
   "execution_count": 14,
   "id": "8d952817",
   "metadata": {},
   "outputs": [
    {
     "name": "stdout",
     "output_type": "stream",
     "text": [
      "(10, 1)\n"
     ]
    },
    {
     "data": {
      "image/png": "[encoded data removed]",
      "text/plain": [
       "<Figure size 432x288 with 1 Axes>"
      ]
     },
     "metadata": {
      "needs_background": "light"
     },
     "output_type": "display_data"
    }
   ],
   "source": [
    "# Charging Stations to Electric Vehicles Linear Regression model using the resampled data \n",
    "y = stations_yr_count_df['stations'].values.reshape(-1,1)\n",
    "X = evs_yr_count_df['evs'].values.reshape(-1,1)\n",
    "model =  LinearRegression()\n",
    "model.fit(X, y)\n",
    "y_pred = model.predict(X)\n",
    "\n",
    "print(y_pred.shape)\n",
    " \n",
    "\n",
    "# Scatter Plot Charging Station Vs Total Electric Vehicles Over A 8 Years\n",
    "plt.scatter(X, y)\n",
    "plt.plot(X, y_pred, color='red')\n",
    "plt.show()"
   ]
  },
  {
   "cell_type": "code",
   "execution_count": 15,
   "id": "33e50f7b",
   "metadata": {},
   "outputs": [
    {
     "data": {
      "text/plain": [
       "array([[555347],\n",
       "       [ 18054],\n",
       "       [229005],\n",
       "       [   743],\n",
       "       [  5662],\n",
       "       [165121],\n",
       "       [320644]], dtype=int64)"
      ]
     },
     "execution_count": 15,
     "metadata": {},
     "output_type": "execute_result"
    }
   ],
   "source": [
    "# Splitting into Train and Test sets into an 70/30 split.\n",
    "y = stations_yr_count_df['stations'].values.reshape(-1,1)\n",
    "X = evs_yr_count_df['evs'].values.reshape(-1,1)\n",
    "\n",
    "# Splitting into Train and Test sets.\n",
    "x_train, x_test, y_train, y_test = train_test_split(X, y, test_size = 0.30, random_state=4)\n",
    "\n",
    "# print the data\n",
    "x_train"
   ]
  },
  {
   "cell_type": "code",
   "execution_count": 16,
   "id": "b667761d",
   "metadata": {
    "scrolled": true
   },
   "outputs": [
    {
     "data": {
      "text/plain": [
       "array([[543],\n",
       "       [ 98],\n",
       "       [297],\n",
       "       [ 89],\n",
       "       [ 96],\n",
       "       [312],\n",
       "       [244]], dtype=int64)"
      ]
     },
     "execution_count": 16,
     "metadata": {},
     "output_type": "execute_result"
    }
   ],
   "source": [
    "y_train"
   ]
  },
  {
   "cell_type": "code",
   "execution_count": 17,
   "id": "c20ddcd0",
   "metadata": {},
   "outputs": [],
   "source": [
    "clf = LinearRegression()\n"
   ]
  },
  {
   "cell_type": "code",
   "execution_count": 18,
   "id": "9a4f48c4",
   "metadata": {},
   "outputs": [
    {
     "data": {
      "text/plain": [
       "LinearRegression()"
      ]
     },
     "execution_count": 18,
     "metadata": {},
     "output_type": "execute_result"
    }
   ],
   "source": [
    "clf.fit(x_train, y_train)"
   ]
  },
  {
   "cell_type": "code",
   "execution_count": 19,
   "id": "fb33a974",
   "metadata": {},
   "outputs": [
    {
     "data": {
      "text/plain": [
       "array([[138.83200296],\n",
       "       [436.967169  ],\n",
       "       [181.44171775]])"
      ]
     },
     "execution_count": 19,
     "metadata": {},
     "output_type": "execute_result"
    }
   ],
   "source": [
    "#x_test = x_test.values.reshape(-1, 1)\n",
    "clf.predict(x_test)"
   ]
  },
  {
   "cell_type": "code",
   "execution_count": 20,
   "id": "4f1fb382",
   "metadata": {},
   "outputs": [
    {
     "data": {
      "text/plain": [
       "0.8766345224897881"
      ]
     },
     "execution_count": 20,
     "metadata": {},
     "output_type": "execute_result"
    }
   ],
   "source": [
    "# Accourcy Check\n",
    "clf.score(x_test,y_test)"
   ]
  }
 ],
 "metadata": {
  "kernelspec": {
   "display_name": "PythonData",
   "language": "python",
   "name": "pythondata"
  },
  "language_info": {
   "codemirror_mode": {
    "name": "ipython",
    "version": 3
   },
   "file_extension": ".py",
   "mimetype": "text/x-python",
   "name": "python",
   "nbconvert_exporter": "python",
   "pygments_lexer": "ipython3",
   "version": "3.9.7"
  }
 },
 "nbformat": 4,
 "nbformat_minor": 5
}
